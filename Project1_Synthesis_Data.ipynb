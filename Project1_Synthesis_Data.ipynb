{
  "metadata": {
    "language_info": {
      "codemirror_mode": {
        "name": "python",
        "version": 3
      },
      "file_extension": ".py",
      "mimetype": "text/x-python",
      "name": "python",
      "nbconvert_exporter": "python",
      "pygments_lexer": "ipython3",
      "version": "3.8"
    },
    "kernelspec": {
      "name": "python",
      "display_name": "Python (Pyodide)",
      "language": "python"
    }
  },
  "nbformat_minor": 4,
  "nbformat": 4,
  "cells": [
    {
      "cell_type": "code",
      "source": "import numpy as np",
      "metadata": {
        "trusted": true
      },
      "execution_count": 4,
      "outputs": []
    },
    {
      "cell_type": "code",
      "source": "import pandas as pd",
      "metadata": {
        "trusted": true
      },
      "execution_count": 5,
      "outputs": []
    },
    {
      "cell_type": "code",
      "source": "dataset = 1000\nresponse_id = np.random.randint(1, 1000, dataset)",
      "metadata": {
        "trusted": true
      },
      "execution_count": 33,
      "outputs": []
    },
    {
      "cell_type": "code",
      "source": "df = pd.DataFrame({\"Response ID\":response_id})\ndf.head()",
      "metadata": {
        "trusted": true
      },
      "execution_count": 34,
      "outputs": [
        {
          "execution_count": 34,
          "output_type": "execute_result",
          "data": {
            "text/plain": "   Response ID\n0          927\n1          252\n2          356\n3          799\n4           13",
            "text/html": "<div>\n<style scoped>\n    .dataframe tbody tr th:only-of-type {\n        vertical-align: middle;\n    }\n\n    .dataframe tbody tr th {\n        vertical-align: top;\n    }\n\n    .dataframe thead th {\n        text-align: right;\n    }\n</style>\n<table border=\"1\" class=\"dataframe\">\n  <thead>\n    <tr style=\"text-align: right;\">\n      <th></th>\n      <th>Response ID</th>\n    </tr>\n  </thead>\n  <tbody>\n    <tr>\n      <th>0</th>\n      <td>927</td>\n    </tr>\n    <tr>\n      <th>1</th>\n      <td>252</td>\n    </tr>\n    <tr>\n      <th>2</th>\n      <td>356</td>\n    </tr>\n    <tr>\n      <th>3</th>\n      <td>799</td>\n    </tr>\n    <tr>\n      <th>4</th>\n      <td>13</td>\n    </tr>\n  </tbody>\n</table>\n</div>"
          },
          "metadata": {}
        }
      ]
    },
    {
      "cell_type": "code",
      "source": "df['Type'] = np.random.choice([\"Tobacco\",\"e-Cigarettes\"], size=dataset, p=[.695,.305])\ndf['Gender'] = np.random.choice([\"Male\",\"Female\", \"Other\"], size=dataset, p=[.45,.45,.1])\ndf['Residence'] = np.random.choice([\"City\",\"Town\", \"Rural\"], size=dataset, p=[.37,.42,.21])\n\ndf.head()",
      "metadata": {
        "trusted": true
      },
      "execution_count": 25,
      "outputs": [
        {
          "execution_count": 35,
          "output_type": "execute_result",
          "data": {
            "text/plain": "   Response ID     Type  Gender Residence\n0          927  Tobacco    Male     Rural\n1          252  Tobacco    Male      City\n2          356  Tobacco    Male      Town\n3          799  Tobacco    Male     Rural\n4           13  Tobacco  Female      City",
            "text/html": "<div>\n<style scoped>\n    .dataframe tbody tr th:only-of-type {\n        vertical-align: middle;\n    }\n\n    .dataframe tbody tr th {\n        vertical-align: top;\n    }\n\n    .dataframe thead th {\n        text-align: right;\n    }\n</style>\n<table border=\"1\" class=\"dataframe\">\n  <thead>\n    <tr style=\"text-align: right;\">\n      <th></th>\n      <th>Response ID</th>\n      <th>Type</th>\n      <th>Gender</th>\n      <th>Residence</th>\n    </tr>\n  </thead>\n  <tbody>\n    <tr>\n      <th>0</th>\n      <td>927</td>\n      <td>Tobacco</td>\n      <td>Male</td>\n      <td>Rural</td>\n    </tr>\n    <tr>\n      <th>1</th>\n      <td>252</td>\n      <td>Tobacco</td>\n      <td>Male</td>\n      <td>City</td>\n    </tr>\n    <tr>\n      <th>2</th>\n      <td>356</td>\n      <td>Tobacco</td>\n      <td>Male</td>\n      <td>Town</td>\n    </tr>\n    <tr>\n      <th>3</th>\n      <td>799</td>\n      <td>Tobacco</td>\n      <td>Male</td>\n      <td>Rural</td>\n    </tr>\n    <tr>\n      <th>4</th>\n      <td>13</td>\n      <td>Tobacco</td>\n      <td>Female</td>\n      <td>City</td>\n    </tr>\n  </tbody>\n</table>\n</div>"
          },
          "metadata": {}
        }
      ]
    },
    {
      "cell_type": "code",
      "source": "df['Year'] = np.random.choice([\"2022\",\"2019\"], size=dataset)\n\ndf.head()",
      "metadata": {
        "trusted": true
      },
      "execution_count": 26,
      "outputs": [
        {
          "execution_count": 36,
          "output_type": "execute_result",
          "data": {
            "text/plain": "   Response ID     Type  Gender Residence  Year\n0          927  Tobacco    Male     Rural  2019\n1          252  Tobacco    Male      City  2022\n2          356  Tobacco    Male      Town  2022\n3          799  Tobacco    Male     Rural  2019\n4           13  Tobacco  Female      City  2019",
            "text/html": "<div>\n<style scoped>\n    .dataframe tbody tr th:only-of-type {\n        vertical-align: middle;\n    }\n\n    .dataframe tbody tr th {\n        vertical-align: top;\n    }\n\n    .dataframe thead th {\n        text-align: right;\n    }\n</style>\n<table border=\"1\" class=\"dataframe\">\n  <thead>\n    <tr style=\"text-align: right;\">\n      <th></th>\n      <th>Response ID</th>\n      <th>Type</th>\n      <th>Gender</th>\n      <th>Residence</th>\n      <th>Year</th>\n    </tr>\n  </thead>\n  <tbody>\n    <tr>\n      <th>0</th>\n      <td>927</td>\n      <td>Tobacco</td>\n      <td>Male</td>\n      <td>Rural</td>\n      <td>2019</td>\n    </tr>\n    <tr>\n      <th>1</th>\n      <td>252</td>\n      <td>Tobacco</td>\n      <td>Male</td>\n      <td>City</td>\n      <td>2022</td>\n    </tr>\n    <tr>\n      <th>2</th>\n      <td>356</td>\n      <td>Tobacco</td>\n      <td>Male</td>\n      <td>Town</td>\n      <td>2022</td>\n    </tr>\n    <tr>\n      <th>3</th>\n      <td>799</td>\n      <td>Tobacco</td>\n      <td>Male</td>\n      <td>Rural</td>\n      <td>2019</td>\n    </tr>\n    <tr>\n      <th>4</th>\n      <td>13</td>\n      <td>Tobacco</td>\n      <td>Female</td>\n      <td>City</td>\n      <td>2019</td>\n    </tr>\n  </tbody>\n</table>\n</div>"
          },
          "metadata": {}
        }
      ]
    },
    {
      "cell_type": "code",
      "source": "df['Frequency'] = np.random.randint(1,10 , dataset)\ndf['Age'] = np.random.randint(18,70 , dataset)\ndf.head()",
      "metadata": {
        "trusted": true
      },
      "execution_count": 41,
      "outputs": [
        {
          "execution_count": 41,
          "output_type": "execute_result",
          "data": {
            "text/plain": "   Response ID     Type  Gender Residence  Year  Frequency  Age\n0          927  Tobacco    Male     Rural  2019          2   25\n1          252  Tobacco    Male      City  2022          9   25\n2          356  Tobacco    Male      Town  2022          2   35\n3          799  Tobacco    Male     Rural  2019          2   23\n4           13  Tobacco  Female      City  2019          6   65",
            "text/html": "<div>\n<style scoped>\n    .dataframe tbody tr th:only-of-type {\n        vertical-align: middle;\n    }\n\n    .dataframe tbody tr th {\n        vertical-align: top;\n    }\n\n    .dataframe thead th {\n        text-align: right;\n    }\n</style>\n<table border=\"1\" class=\"dataframe\">\n  <thead>\n    <tr style=\"text-align: right;\">\n      <th></th>\n      <th>Response ID</th>\n      <th>Type</th>\n      <th>Gender</th>\n      <th>Residence</th>\n      <th>Year</th>\n      <th>Frequency</th>\n      <th>Age</th>\n    </tr>\n  </thead>\n  <tbody>\n    <tr>\n      <th>0</th>\n      <td>927</td>\n      <td>Tobacco</td>\n      <td>Male</td>\n      <td>Rural</td>\n      <td>2019</td>\n      <td>2</td>\n      <td>25</td>\n    </tr>\n    <tr>\n      <th>1</th>\n      <td>252</td>\n      <td>Tobacco</td>\n      <td>Male</td>\n      <td>City</td>\n      <td>2022</td>\n      <td>9</td>\n      <td>25</td>\n    </tr>\n    <tr>\n      <th>2</th>\n      <td>356</td>\n      <td>Tobacco</td>\n      <td>Male</td>\n      <td>Town</td>\n      <td>2022</td>\n      <td>2</td>\n      <td>35</td>\n    </tr>\n    <tr>\n      <th>3</th>\n      <td>799</td>\n      <td>Tobacco</td>\n      <td>Male</td>\n      <td>Rural</td>\n      <td>2019</td>\n      <td>2</td>\n      <td>23</td>\n    </tr>\n    <tr>\n      <th>4</th>\n      <td>13</td>\n      <td>Tobacco</td>\n      <td>Female</td>\n      <td>City</td>\n      <td>2019</td>\n      <td>6</td>\n      <td>65</td>\n    </tr>\n  </tbody>\n</table>\n</div>"
          },
          "metadata": {}
        }
      ]
    },
    {
      "cell_type": "code",
      "source": "cost = []\nfor row in df['Frequency']:\n        if row < 2 :    cost.append(float(np.random.uniform(10,20,1)))\n        elif row < 4  : cost.append(float(np.random.uniform(21,40,1)))\n        elif row < 6 :  cost.append(float(np.random.uniform(41,60,1)))\n        elif row < 8 :  cost.append(float(np.random.uniform(61,80,1)))        \n        else:           cost.append(float(np.random.uniform(81,110,1)))",
      "metadata": {
        "trusted": true
      },
      "execution_count": 232,
      "outputs": []
    },
    {
      "cell_type": "code",
      "source": "df['Cost'] = cost",
      "metadata": {
        "trusted": true
      },
      "execution_count": 233,
      "outputs": []
    },
    {
      "cell_type": "code",
      "source": "df.head()",
      "metadata": {
        "trusted": true
      },
      "execution_count": 234,
      "outputs": [
        {
          "execution_count": 234,
          "output_type": "execute_result",
          "data": {
            "text/plain": "   Response ID          Type  Gender Residence  Year  Frequency  Age  \\\n0          156       Tobacco  Female      City  2021          9   31   \n1          874       Tobacco  Female      City  2021          5   64   \n2           60       Tobacco   Other      Town  2021          3   36   \n3          480       Tobacco  Female      City  2021          3   20   \n4          403  e-Cigarettes  Female      City  2021          8   36   \n\n         Cost  \n0  105.552230  \n1   54.950457  \n2   33.296529  \n3   39.627105  \n4   90.581689  ",
            "text/html": "<div>\n<style scoped>\n    .dataframe tbody tr th:only-of-type {\n        vertical-align: middle;\n    }\n\n    .dataframe tbody tr th {\n        vertical-align: top;\n    }\n\n    .dataframe thead th {\n        text-align: right;\n    }\n</style>\n<table border=\"1\" class=\"dataframe\">\n  <thead>\n    <tr style=\"text-align: right;\">\n      <th></th>\n      <th>Response ID</th>\n      <th>Type</th>\n      <th>Gender</th>\n      <th>Residence</th>\n      <th>Year</th>\n      <th>Frequency</th>\n      <th>Age</th>\n      <th>Cost</th>\n    </tr>\n  </thead>\n  <tbody>\n    <tr>\n      <th>0</th>\n      <td>156</td>\n      <td>Tobacco</td>\n      <td>Female</td>\n      <td>City</td>\n      <td>2021</td>\n      <td>9</td>\n      <td>31</td>\n      <td>105.552230</td>\n    </tr>\n    <tr>\n      <th>1</th>\n      <td>874</td>\n      <td>Tobacco</td>\n      <td>Female</td>\n      <td>City</td>\n      <td>2021</td>\n      <td>5</td>\n      <td>64</td>\n      <td>54.950457</td>\n    </tr>\n    <tr>\n      <th>2</th>\n      <td>60</td>\n      <td>Tobacco</td>\n      <td>Other</td>\n      <td>Town</td>\n      <td>2021</td>\n      <td>3</td>\n      <td>36</td>\n      <td>33.296529</td>\n    </tr>\n    <tr>\n      <th>3</th>\n      <td>480</td>\n      <td>Tobacco</td>\n      <td>Female</td>\n      <td>City</td>\n      <td>2021</td>\n      <td>3</td>\n      <td>20</td>\n      <td>39.627105</td>\n    </tr>\n    <tr>\n      <th>4</th>\n      <td>403</td>\n      <td>e-Cigarettes</td>\n      <td>Female</td>\n      <td>City</td>\n      <td>2021</td>\n      <td>8</td>\n      <td>36</td>\n      <td>90.581689</td>\n    </tr>\n  </tbody>\n</table>\n</div>"
          },
          "metadata": {}
        }
      ]
    },
    {
      "cell_type": "code",
      "source": "",
      "metadata": {},
      "execution_count": null,
      "outputs": []
    }
  ]
}
